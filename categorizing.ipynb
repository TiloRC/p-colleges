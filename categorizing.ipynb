{
  "nbformat": 4,
  "nbformat_minor": 0,
  "metadata": {
    "colab": {
      "provenance": [],
      "authorship_tag": "ABX9TyMPVr6tLGqaFS/brKmNKFyR",
      "include_colab_link": true
    },
    "kernelspec": {
      "name": "python3",
      "display_name": "Python 3"
    },
    "language_info": {
      "name": "python"
    }
  },
  "cells": [
    {
      "cell_type": "markdown",
      "metadata": {
        "id": "view-in-github",
        "colab_type": "text"
      },
      "source": [
        "<a href=\"https://colab.research.google.com/github/p-ai-org/p-colleges/blob/main/categorizing.ipynb\" target=\"_parent\"><img src=\"https://colab.research.google.com/assets/colab-badge.svg\" alt=\"Open In Colab\"/></a>"
      ]
    },
    {
      "cell_type": "code",
      "execution_count": 22,
      "metadata": {
        "colab": {
          "base_uri": "https://localhost:8080/"
        },
        "id": "YL7LV5esPODV",
        "outputId": "33d80a7f-8805-4991-e2a4-021c07e16e0c"
      },
      "outputs": [
        {
          "output_type": "stream",
          "name": "stderr",
          "text": [
            "[nltk_data] Downloading package wordnet to /root/nltk_data...\n"
          ]
        }
      ],
      "source": [
        "#libraries\n",
        "from nltk.stem import WordNetLemmatizer\n",
        "import nltk\n",
        "nltk.download('wordnet')\n",
        "from nltk.corpus import wordnet\n",
        "import string"
      ]
    },
    {
      "cell_type": "code",
      "source": [
        "#getting a list of related words - WORK IN PROGRESS\n",
        "\n",
        "# Initialize WordNetLemmatizer\n",
        "lemmatizer = WordNetLemmatizer()\n",
        "\n",
        "# Get all synsets for the word\n",
        "sportsSynsets = wordnet.synsets('sports')\n",
        "\n",
        "# Loop over all synsets and extract all related words\n",
        "related_words1 = []\n",
        "for synset in sportsSynsets:\n",
        "    for lemma in synset.lemmas():\n",
        "        # Use lemmatizer to get the base form of the related word\n",
        "        related_word = lemmatizer.lemmatize(lemma.name())\n",
        "        related_words1.append(related_word)\n",
        "\n",
        "sports_related_words = list(set(related_words1))\n",
        "\n",
        "sports = wordnet.synset('athletics.n.01')\n",
        "more_sports_words = list(set([w.lower() for s in sports.closure(lambda s: s.hyponyms()) for w in s.lemma_names()]))\n",
        "\n",
        "#sports related words\n",
        "total_sports_words = sports_related_words + more_sports_words\n",
        "total_sports_words = total_sports_words + ['sport', 'atheletic','athlete','recruit','league']\n",
        "print(total_sports_words)\n",
        "\n",
        "# party\n",
        "partySynsets = wordnet.synsets('social')\n",
        "\n",
        "related_words2 = []\n",
        "for synset in partySynsets:\n",
        "    for lemma in synset.lemmas():\n",
        "        # Use lemmatizer to get the base form of the related word\n",
        "        related_word = lemmatizer.lemmatize(lemma.name())\n",
        "        related_words2.append(related_word)\n",
        "\n",
        "party_related_words = list(set(related_words2))\n",
        "\n",
        "party = wordnet.synset('social.n.01')\n",
        "more_party_words = list(set([w.lower() for s in party.closure(lambda s: s.hyponyms()) for w in s.lemma_names()]))\n",
        "\n",
        "total_party_words = party_related_words + more_party_words\n",
        "total_party_words = total_party_words + ['friend', 'party','frat', 'sorority','dorm','culture','group','people']\n",
        "print(total_party_words)\n",
        "\n",
        "\n"
      ],
      "metadata": {
        "id": "wyYh8Gj5PU87"
      },
      "execution_count": null,
      "outputs": []
    },
    {
      "cell_type": "code",
      "source": [
        "#the code that sorts\n",
        "premade_categories = [\"athletics\", \"social\", \"academics\", \"location\", \"prestige\", \"affordability\"]\n",
        "\n",
        "athletics = [\"sport\", \"sports\", \"sporting\", \"athletics\", \"athletes\", \"athlete\",\"league\", \"championship\",\"champion\",\"playoff\", \"playoffs\", \"basketball\",\"football\",\"tennis\",\"softball\",\"baseball\",\"water polo\",\"rugby\",\"PE\",\"physical\",\"swim\"]\n",
        "social = [\"party\",\"friend\",\"celebration\",\"fraternity\",\"frat\",\"sorority\",\"culture\",\"dorm\",\"drinking\",\"social\",\"network\",\"environment\",\"communities\",\"clubs\"]\n",
        "academics = [\"teacher\",\"professor\",\"professors\",\"academics\",\"classes\",\"education\",\"class\",\"registration\",\"accommodations\",\"exams\",\"cheat\",\"test\",\"homework\",\"problem\",\"staff\",\"faculty\",\"grade\",\"grading\",'study','opportunities','co-op','research','undergrad','graduate','program']\n",
        "location = [\"campus\",\"located\",\"area\",\"city\",\"community\",\"nature\",\"nearby\",\"outdoor\",\"far away\",\"local\"]\n",
        "prestige = [\"prestige\",\"prestigious\",\"honor\",\"famous\",\"rank\",\"ranking\",\"top\",\"well-known\"]\n",
        "affordability = [\"afford\",\"cost\",\"price\",\"expensive\",\"cheap\",\"expensive\", 'worth']\n",
        "environment = [\"workaholism\", 'competitive', \"stress\", \"chill\",\"fun\",'lazy','enjoyable',\"experience\",'relaxed','easy','hard','doable','hate']\n"
      ],
      "metadata": {
        "id": "Ve9OfzVrPgJp"
      },
      "execution_count": 26,
      "outputs": []
    },
    {
      "cell_type": "code",
      "source": [
        "#function\n",
        "def classify(text):\n",
        "  \"\"\"This function takes in a block of text and returns the category(ies) it is in.\"\"\"\n",
        "  text = text.translate(str.maketrans(\"\", \"\", string.punctuation))\n",
        "  categories = []\n",
        "  for word in text.lower().split():\n",
        "    if word in athletics:\n",
        "      categories.append('athletics')\n",
        "    if word in social:\n",
        "      categories.append(\"social\")\n",
        "    if word in academics:\n",
        "      categories.append(\"academics\")\n",
        "    if word in location:\n",
        "      categories.append(\"location\")\n",
        "    if word in prestige:\n",
        "      categories.append(\"prestige\")\n",
        "    if word in affordability:\n",
        "      categories.append(\"affordability\")\n",
        "    if word in environment:\n",
        "      categories.append(\"environment\")\n",
        "\n",
        "\n",
        "  return set(categories)\n",
        "print(classify(\"Small tight community. So many opportunities within programs and clubs. Great work-study jobs. Lacking variety and consistency in the food area. Some classrooms and facilities are a bit outdated. Winchester as a whole can be boring except Apple Blossom\"))"
      ],
      "metadata": {
        "colab": {
          "base_uri": "https://localhost:8080/"
        },
        "id": "gxR15XDMSoJC",
        "outputId": "4da62581-a7e7-4fa2-9e07-788fc9ab8305"
      },
      "execution_count": 27,
      "outputs": [
        {
          "output_type": "stream",
          "name": "stdout",
          "text": [
            "{'social', 'academics', 'location'}\n"
          ]
        }
      ]
    }
  ]
}